{
 "cells": [
  {
   "cell_type": "markdown",
   "id": "38cce5eb",
   "metadata": {},
   "source": [
    "## IMPORTS"
   ]
  },
  {
   "cell_type": "code",
   "execution_count": null,
   "id": "2a801999",
   "metadata": {},
   "outputs": [],
   "source": [
    "import glob\n",
    "import os\n",
    "import datetime\n",
    "import csv"
   ]
  },
  {
   "cell_type": "markdown",
   "id": "6b6f984d",
   "metadata": {},
   "source": [
    "## Move and rename function"
   ]
  },
  {
   "cell_type": "code",
   "execution_count": null,
   "id": "9c6417a2",
   "metadata": {},
   "outputs": [],
   "source": [
    "def refactoreFunction(oldPath,newPath):\n",
    "    # Get List of all images\n",
    "    files = glob.glob(oldPath + '/**/*.jpg', recursive=True)\n",
    "    count = 0\n",
    "\n",
    "    # For each image\n",
    "    for file in files:\n",
    "        # Get the file extension\n",
    "        fileExtension = os.path.splitext(file)[1]\n",
    "\n",
    "        # Generate the new filename with the format \"imageX.jpg\"\n",
    "        newFilename = f\"image{count + 1}{fileExtension}\"\n",
    "\n",
    "        # Construct the destination path\n",
    "        destination = os.path.join(newPath, newFilename)\n",
    "\n",
    "        # Check if the source file exists before attempting to rename\n",
    "        if os.path.exists(file):\n",
    "            # Rename the file with os.rename\n",
    "            os.rename(file, destination)\n",
    "            count += 1\n",
    "        else:\n",
    "            print(f\"Source file not found: {file}\")\n"
   ]
  },
  {
   "cell_type": "markdown",
   "id": "37593279",
   "metadata": {},
   "source": [
    "## Image info function"
   ]
  },
  {
   "cell_type": "code",
   "execution_count": 43,
   "id": "51f42623",
   "metadata": {},
   "outputs": [],
   "source": [
    "def getImagesInfo(imagesPath):\n",
    "    imagesInfoList = []  # Initialize an empty list to store image information\n",
    "\n",
    "    allImages = os.listdir(imagesPath)\n",
    "    # Sort the list of image filenames numerically\n",
    "    allImages.sort(key=lambda x: int(x.split('image')[1].split('.jpg')[0]))\n",
    "    for image in allImages:\n",
    "        # Construct the full path to the image\n",
    "        imagePath = os.path.join(imagesPath, image)\n",
    "        \n",
    "        # Get image size in bytes\n",
    "        imageSize = os.path.getsize(imagePath)\n",
    "\n",
    "        # Get the last modification date and time as a timestamp\n",
    "        modificationTime = os.path.getmtime(imagePath)\n",
    "\n",
    "        # Convert the timestamp to a readable date and time\n",
    "        modificationDate = datetime.datetime.fromtimestamp(modificationTime)\n",
    "        modificationDateStr = modificationDate.strftime('%a %b %d %H:%M:%S %Y')\n",
    "\n",
    "        # Create a dictionary for the image information\n",
    "        imageInfo = {'Name':image,'Size (bytes)':imageSize,'Last Modification Date':modificationDateStr}\n",
    "        \n",
    "        # Add the image info dictionary to the list\n",
    "        imagesInfoList.append(imageInfo)\n",
    "    \n",
    "    return imagesInfoList"
   ]
  },
  {
   "cell_type": "markdown",
   "id": "8ca60619",
   "metadata": {},
   "source": [
    "## Save to csv function"
   ]
  },
  {
   "cell_type": "code",
   "execution_count": 35,
   "id": "ac6c0586",
   "metadata": {},
   "outputs": [],
   "source": [
    "def saveToCsv(imagesInfoList,csvFileName):\n",
    "    if imagesInfoList:\n",
    "        # Define the column names\n",
    "        columnNames = ['Name', 'Size (bytes)', 'Last Modification Date']\n",
    "\n",
    "        # Open the CSV file for writing\n",
    "        with open(csvFileName, mode='w', newline='') as csvFile:\n",
    "            writer = csv.DictWriter(csvFile, fieldnames=columnNames)\n",
    "\n",
    "            # Write the header row\n",
    "            writer.writeheader()\n",
    "\n",
    "            # Write the image information\n",
    "            for imageInfo in imagesInfoList:\n",
    "                writer.writerow(imageInfo)\n",
    "    "
   ]
  },
  {
   "cell_type": "markdown",
   "id": "365bca49",
   "metadata": {},
   "source": [
    "## Define old path & new path"
   ]
  },
  {
   "cell_type": "code",
   "execution_count": 27,
   "id": "2f083dc9",
   "metadata": {},
   "outputs": [],
   "source": [
    "# Location of images\n",
    "oldPath = \"./dairies/\"\n",
    "# Location to move images to\n",
    "newPath = \"./allImages/\""
   ]
  },
  {
   "cell_type": "code",
   "execution_count": 28,
   "id": "ec351590",
   "metadata": {
    "scrolled": true
   },
   "outputs": [],
   "source": [
    "refactoreFunction(oldPath,newPath)"
   ]
  },
  {
   "cell_type": "code",
   "execution_count": 45,
   "id": "767b2939",
   "metadata": {},
   "outputs": [],
   "source": [
    "imagesInfoList=getImagesInfo(newPath)"
   ]
  },
  {
   "cell_type": "code",
   "execution_count": 46,
   "id": "95734d6f",
   "metadata": {
    "scrolled": false
   },
   "outputs": [],
   "source": [
    "saveToCsv(imagesInfoList,\"imagesInfo.csv\")"
   ]
  },
  {
   "cell_type": "code",
   "execution_count": null,
   "id": "a3992c3e",
   "metadata": {},
   "outputs": [],
   "source": []
  }
 ],
 "metadata": {
  "kernelspec": {
   "display_name": "Python 3 (ipykernel)",
   "language": "python",
   "name": "python3"
  },
  "language_info": {
   "codemirror_mode": {
    "name": "ipython",
    "version": 3
   },
   "file_extension": ".py",
   "mimetype": "text/x-python",
   "name": "python",
   "nbconvert_exporter": "python",
   "pygments_lexer": "ipython3",
   "version": "3.10.9"
  }
 },
 "nbformat": 4,
 "nbformat_minor": 5
}
